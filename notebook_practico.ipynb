{
  "nbformat": 4,
  "nbformat_minor": 0,
  "metadata": {
    "colab": {
      "name": "notebook_practico.ipynb",
      "provenance": []
    },
    "kernelspec": {
      "name": "python3",
      "display_name": "Python 3"
    },
    "language_info": {
      "name": "python"
    }
  },
  "cells": [
    {
      "cell_type": "code",
      "execution_count": null,
      "metadata": {
        "id": "NkcLvi_1Pb0W"
      },
      "outputs": [],
      "source": [
        "# Importaciones pertinentes \n",
        "import pandas as pd\n",
        "import numpy as np\n",
        "import matplotlib.pyplot as plt\n",
        "import seaborn as sns"
      ]
    },
    {
      "cell_type": "code",
      "source": [
        "# cargar un archivo\n",
        "df = pd.read_csv('https://raw.githubusercontent.com/gbrlm/DDBancor/main/dataset_mov.csv')"
      ],
      "metadata": {
        "id": "623FcMTtPg5O"
      },
      "execution_count": null,
      "outputs": []
    },
    {
      "cell_type": "markdown",
      "source": [
        "Algunas visualizaciones iniciales"
      ],
      "metadata": {
        "id": "kcMT_KIGVJyt"
      }
    },
    {
      "cell_type": "code",
      "source": [
        "# ver primeras filas\n",
        "df.head()\n",
        "# ver tipos de datos\n",
        "df.dtypes\n",
        "# ver información de dataset\n",
        "df.info()\n",
        "# ver estadísticas del dataset\n",
        "df.describe()\n",
        "# ver nombres de columnas\n",
        "df.columns"
      ],
      "metadata": {
        "id": "uDyfHEY7PmTf"
      },
      "execution_count": null,
      "outputs": []
    },
    {
      "cell_type": "markdown",
      "source": [
        "Los valores en columnas son consistentes? Existen valores faltantes? Cantidad de valores unicos, exiten repetidos donde no debería? Ver cantidad de valores que cummplen alguan condición"
      ],
      "metadata": {
        "id": "LX3bzVa1P35N"
      }
    },
    {
      "cell_type": "code",
      "source": [
        "# ver si hay valores faltantes\n",
        "df['column_name'].isnull.sum()\n",
        "# ver cantidad de valores unicos en una columnas\n",
        "df['column_name'].nunique()\n",
        "# ver valores unicos en una columna\n",
        "df['column_name'].unique()\n",
        "# ver cantidad de valores que cumplen una condicion\n",
        "(df['column_name']=='algo').sum()"
      ],
      "metadata": {
        "id": "XPSDwCTUQCA-"
      },
      "execution_count": null,
      "outputs": []
    },
    {
      "cell_type": "markdown",
      "source": [
        "Seleccionar columnas o filas"
      ],
      "metadata": {
        "id": "jXogx4W5Rv3N"
      }
    },
    {
      "cell_type": "code",
      "source": [
        "# seleccionar columnas por nombre\n",
        "df[df[['columns_names']]]\n",
        "# seleccionar columnas por indice\n",
        "df[df.columns[n]]\n",
        "# seleccionar filas por indice\n",
        "df.iloc['indices']\n",
        "# seleccionar filas por condicion\n",
        "df[df['column']=='valor']"
      ],
      "metadata": {
        "id": "g2wepm6URupX"
      },
      "execution_count": null,
      "outputs": []
    },
    {
      "cell_type": "markdown",
      "source": [
        "Eliminar filas o columnas"
      ],
      "metadata": {
        "id": "Qm-RWEGIS55z"
      }
    },
    {
      "cell_type": "code",
      "source": [
        "# eliminar una fila con valores nulos\n",
        "df.dropna(how='any')\n",
        "# eliminar filas\n",
        "df.drop(['list_of_index'],axis=0)\n",
        "# elimnar columnas \n",
        "df.drop(['list_of_columns_names'],axis=1)"
      ],
      "metadata": {
        "id": "pFrovq0eRk1q"
      },
      "execution_count": null,
      "outputs": []
    },
    {
      "cell_type": "markdown",
      "source": [
        "Cambiar valores de texto a fechas (datetime)"
      ],
      "metadata": {
        "id": "roYhKVzsX0Ks"
      }
    },
    {
      "cell_type": "code",
      "source": [
        "df['column']=pd.to_datetime(df['column'].astype(str),format='%Y%m%d')"
      ],
      "metadata": {
        "id": "O6-xfLvzXzUL"
      },
      "execution_count": null,
      "outputs": []
    },
    {
      "cell_type": "markdown",
      "source": [
        "Algunos gráficos con seaborn"
      ],
      "metadata": {
        "id": "IqZf9eqtaWPF"
      }
    },
    {
      "cell_type": "code",
      "source": [
        "# lineplot\n",
        "fig, ax = plt.subplots(figsize=(20, 5))\n",
        "sns.lineplot(data=dataset, x='column_1', y='column_2')\n",
        "plt.xticks(rotation=90)\n",
        "\n",
        "# histogram\n",
        "fig, ax = plt.subplots(figsize=(20, 5))\n",
        "sns.histplot(data=dataset, x='column_1', y='column_2')\n",
        "plt.xticks(rotation=90)"
      ],
      "metadata": {
        "id": "VzOXmNJIaVrb"
      },
      "execution_count": null,
      "outputs": []
    },
    {
      "cell_type": "markdown",
      "source": [
        "Guardar un nuevo dataframe como csv"
      ],
      "metadata": {
        "id": "0RdODbG5a73U"
      }
    },
    {
      "cell_type": "code",
      "source": [
        "# guardar todo el datatset\n",
        "df.to_csv('dir/file_name')\n",
        "# guardar sin header o sin index\n",
        "df.to_csv('dir/file_name', index=False, header=False)"
      ],
      "metadata": {
        "id": "5Zy0TW97WK7Z"
      },
      "execution_count": null,
      "outputs": []
    }
  ]
}