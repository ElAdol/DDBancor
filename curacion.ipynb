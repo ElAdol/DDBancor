{
  "nbformat": 4,
  "nbformat_minor": 0,
  "metadata": {
    "colab": {
      "name": "curación.ipynb",
      "provenance": []
    },
    "kernelspec": {
      "name": "python3",
      "display_name": "Python 3"
    },
    "language_info": {
      "name": "python"
    }
  },
  "cells": [
    {
      "cell_type": "markdown",
      "source": [
        "\n",
        "**Almacenamiento, Identificación, Curaduría y Mantenimiento De\n",
        "Grandes Volúmenes De Datos**\n",
        "\n",
        "**Edición 2022**\n",
        "\n",
        "---\n",
        "# Aplicaciones en Python\n",
        "\n",
        "La idea de esta notebook es poder introducir algunos conceptos básicos de estadistica descriptiva y sus aplicaciones en Python. Intentaremos familiarizarnos con algunos \n",
        "conceptos (librerias, paquetes y funciones) que nos facilitaran el camino hacia la manipulacion y procesamiento de los datos. \n",
        "\n",
        "---\n",
        "# Algunos temas a tratar\n",
        "- El proceso ETL (extracción, transformación y carga)\n",
        "- Procesos y pasos a seguir para la identificación, recolección e importación de\n",
        "datos.\n",
        "- Integración de datos de diversas fuentes\n",
        "- Detección de anomalías y herramientas para la limpieza y depuración de los\n",
        "datos como paso preparatorio del análisis.\n"
      ],
      "metadata": {
        "id": "rFv5pnjE203U"
      }
    },
    {
      "cell_type": "markdown",
      "source": [
        "## ¿Que es \"EDA\"? \n",
        "\n",
        "En sus siglas en inglés hace referencia al **Análisis Exploratorio de Datos**. Este es el primer paso que debemos realizar como Data Scientists y consta de una primera revisión del estado de los datos y los consecuentes pasos necesarios para una correcta transformación.\n",
        "\n",
        "La ciencia de datos es una disciplina que te permite convertir datos crudos en entendimiento, comprensión y conocimiento.\n",
        "\n",
        "<center>\n",
        "<img src=\"https://i.imgur.com/jclXnDS.png\" height=\"200\" />\n",
        "</center>"
      ],
      "metadata": {
        "id": "d1gmtV_Z3ntZ"
      }
    },
    {
      "cell_type": "markdown",
      "source": [
        "## Importación de librerías\n",
        "\n",
        "El concepto correcto en español es \"biblioteca\". Una biblioteca es básicamente un componente de software que nos brinda acceso a distintas funcionalidades.\n",
        "Existen librerías con funciones para leer un archivo excel o csv y trabajar los datos como tablas (librería Pandas, por ejemplo), otras con funciones para graficar nuestros datos (como Seaborn), para trabajar con cálculo numérico (como Numpy).\n",
        "Cualquiera sea el lenguaje con el que se decida programar, será útil conocer mediante la página oficial del lenguaje cuáles son las librerías disponibles, que nos facilitarán, en éste caso, el análisis de datos."
      ],
      "metadata": {
        "id": "QAdf2j_u4Nul"
      }
    },
    {
      "cell_type": "code",
      "execution_count": 1,
      "metadata": {
        "id": "QcCyyRGVvhf5"
      },
      "outputs": [],
      "source": [
        "# Importaciones pertinentes \n",
        "import pandas as pd\n",
        "import numpy as np\n",
        "import matplotlib.pyplot as plt\n",
        "import seaborn as sns"
      ]
    },
    {
      "cell_type": "markdown",
      "source": [
        "## Guias de usuario\n",
        "A continuación dejamos algunos links correspondientes a las guia de usuario o introducciones al uso de las librerias que importamos anteriormrente.\n",
        "- Pandas: https://pandas.pydata.org/docs/user_guide/index.html\n",
        "- NumPy: https://numpy.org/doc/stable/user/absolute_beginners.html\n",
        "- Matplotlib: https://matplotlib.org/stable/tutorials/introductory/usage.html\n",
        "- Seaborn: https://seaborn.pydata.org/introduction.html\n"
      ],
      "metadata": {
        "id": "XYFnRWNH4k5d"
      }
    },
    {
      "cell_type": "markdown",
      "source": [
        "## Lectura de datos:\n",
        "\n",
        "En esta primera parte, aprendemos cómo cargar un conjunto de datos utilizando pandas y cómo ver su contenido.\n",
        "\n",
        "Como ejemplo para trabajar, cargaremos un dataset con la información de movimientos de caja de ahorro.\n",
        "El archivo a cargar será el siguiente \n",
        "- movimientos_CAh.tab\n",
        "\n",
        "https://drive.google.com/file/d/14413kavdE_ge3qcHexlDU0-ZtTv2EaN0/view?usp=sharing\n",
        "\n"
      ],
      "metadata": {
        "id": "fpzIgz4QiJKV"
      }
    },
    {
      "cell_type": "code",
      "source": [
        "# cargar con pandas el archivo .tab \n",
        "df = pd.read_csv('movimientos_CAh.tab', sep='\\t')"
      ],
      "metadata": {
        "id": "g5fPorXniDU4"
      },
      "execution_count": 2,
      "outputs": []
    },
    {
      "cell_type": "code",
      "source": [
        "df_new = df[df['fecha']<20180501]\n",
        "np.sort(df_new.movimientos.unique())"
      ],
      "metadata": {
        "colab": {
          "base_uri": "https://localhost:8080/"
        },
        "id": "rMZSIexWYKDK",
        "outputId": "f284e272-e777-4d89-deb9-5e2d26ca76ea"
      },
      "execution_count": 6,
      "outputs": [
        {
          "output_type": "execute_result",
          "data": {
            "text/plain": [
              "array([ 1,  2,  3,  4,  5,  6,  7,  8,  9, 10, 11, 12, 13, 14, 15, 16, 17,\n",
              "       18, 19, 20, 21, 22, 23, 24, 25, 26, 27, 28, 29, 30, 31, 32, 33, 35,\n",
              "       36, 37, 38, 40, 41, 42, 44, 45, 46, 47, 51, 54, 72])"
            ]
          },
          "metadata": {},
          "execution_count": 6
        }
      ]
    },
    {
      "cell_type": "markdown",
      "source": [
        "Con esta operación hemos creado un DataFrame de pandas con el archivo de movimientos de la caja de ahorro. Un DataFrame no es más que una tabla sobre la cual podemos aplicar un montón de operaciones similares a las de Excel o a las SQL.\n",
        "\n",
        "Podemos revisar con más detalle todo el set de funciones de lectura (y escritura) de Pandas en el siguiente link:\n",
        "\n",
        "https://pandas.pydata.org/pandas-docs/stable/user_guide/io.html"
      ],
      "metadata": {
        "id": "hDnk4apb9GTr"
      }
    },
    {
      "cell_type": "markdown",
      "source": [
        "## Exploración de los datos\n",
        "\n",
        "A continuación vamos a comenzar con la exploración, visualización y transformación del DataFrame para el análisis de los datos a manera de ejemplos."
      ],
      "metadata": {
        "id": "aKvueF5u9g7N"
      }
    },
    {
      "cell_type": "markdown",
      "source": [
        "### Visualización del DataFrame\n",
        "Comencemos viendo que tiene la variable `df`."
      ],
      "metadata": {
        "id": "37Ge9qBO_h-u"
      }
    },
    {
      "cell_type": "code",
      "source": [
        "# visualizar el DataFrame con estilo de tabla\n",
        "display(df)"
      ],
      "metadata": {
        "id": "g6Vdnu-XCKSA"
      },
      "execution_count": null,
      "outputs": []
    },
    {
      "cell_type": "code",
      "source": [
        "# visualizar sólo las primeras filas\n",
        "df.head() # df.head(n) con default n=5\n",
        "# tambien podría ser con df[:n]"
      ],
      "metadata": {
        "id": "Sm0efQTbCaCS"
      },
      "execution_count": null,
      "outputs": []
    },
    {
      "cell_type": "markdown",
      "source": [
        "### Renombrar columnas\n",
        "Para trabajar más cómodamente, renombraremos las columnas de DataFrame. Tengan cuidado de que el orden de los nombres nuevos se corresponda con el contenido de cada columna."
      ],
      "metadata": {
        "id": "iui-HZf4FKce"
      }
    },
    {
      "cell_type": "code",
      "source": [
        "# veamos las columnas actuales\n",
        "df.columns"
      ],
      "metadata": {
        "id": "PSl0DNkLFWCo"
      },
      "execution_count": null,
      "outputs": []
    },
    {
      "cell_type": "code",
      "source": [
        "# definamos los nombres de las nuevas columnas\n",
        "new_names = ['idFacu','fecha','idMoneda','signo','grupo','importe','movimientos','totalCuentasConMov']"
      ],
      "metadata": {
        "id": "LuNCVLFpFk1U"
      },
      "execution_count": null,
      "outputs": []
    },
    {
      "cell_type": "code",
      "source": [
        "# renombramos las columnas\n",
        "df.columns = new_names"
      ],
      "metadata": {
        "id": "rZ_5bfANGKCj"
      },
      "execution_count": null,
      "outputs": []
    },
    {
      "cell_type": "code",
      "source": [
        "display(df[:5])\n",
        "display(df[-5:])"
      ],
      "metadata": {
        "id": "SaU3IrUWKKsB"
      },
      "execution_count": null,
      "outputs": []
    },
    {
      "cell_type": "markdown",
      "source": [
        "## Tipos de variables y valores faltantes\n",
        "\n",
        "Como paso siguiente podemos tratar de identificar que tipos de variables constituyen las columnas del DataFrame, por ejemplo,  ¿qué tipo de datos hay en la columna de ID?, ¿la columna de fecha que contiene?, ¿los número en cantidad de movimientos tienen el mismo formato que los números en la columna de importes? "
      ],
      "metadata": {
        "id": "40-KrqdcC36n"
      }
    },
    {
      "cell_type": "code",
      "source": [
        "# podemos ver que tipo de datos tenemos en las columnas \n",
        "df.dtypes"
      ],
      "metadata": {
        "id": "7_nVtT_FiDRk"
      },
      "execution_count": null,
      "outputs": []
    },
    {
      "cell_type": "code",
      "source": [
        "# para obtener además del tipo de datos, se puede usar la función .info()\n",
        "df.info()"
      ],
      "metadata": {
        "id": "HseYfhDVJlou"
      },
      "execution_count": null,
      "outputs": []
    },
    {
      "cell_type": "code",
      "source": [
        "# en caso de tener un dataset muy grande y usando las función .info() no nos \n",
        "# llegue a decir la cantidad de elementos no nulos podemos hacer la suma de \n",
        "# de los elemntos nulos, por ejemplos\n",
        "print('Cantindad de elemento nulos en la columna \"fecha\" ')\n",
        "print(df.fecha.isnull().sum())\n",
        "\n",
        "print('')\n",
        "\n",
        "print('Cantindad de elemento nulos en la columna \"importe\" ')\n",
        "print(df.importe.isnull().sum())"
      ],
      "metadata": {
        "id": "O9q-H7gViDN1"
      },
      "execution_count": null,
      "outputs": []
    },
    {
      "cell_type": "markdown",
      "source": [
        "Vemos que en la columnas de \"importe\", por ejemple, hay un valor nulo. Nos podemos preguntar cosas tales como ¿qué problemas podrían ocurrir? o ¿qué decisión podemos tomar al respecto?"
      ],
      "metadata": {
        "id": "PUW9pC6mSzF-"
      }
    },
    {
      "cell_type": "code",
      "source": [
        "# eliminar las columnas que tengan algún valor nulo\n",
        "df.dropna(how=\"any\", inplace=True)\n",
        "display(df)"
      ],
      "metadata": {
        "id": "yxX1lRz5Symf"
      },
      "execution_count": null,
      "outputs": []
    },
    {
      "cell_type": "markdown",
      "source": [
        "### Algo más de visualización y algunos gráficos\n",
        "\n",
        "Dado que ya tenemos información sobre los tipos de variables, podriamos llevar a cabo algunos gráficos y análisis mediante estadística descriptiva.\n"
      ],
      "metadata": {
        "id": "wNggb8ZKVA_E"
      }
    },
    {
      "cell_type": "markdown",
      "source": [
        "Veamos con mas detalle la columnas de \"grupo\" e \"importe\""
      ],
      "metadata": {
        "id": "i4Th9mcCYOhn"
      }
    },
    {
      "cell_type": "code",
      "source": [
        "# veamos cuantas categorias en la columna grupo hay\n",
        "num_grupo = df.grupo.nunique()\n",
        "print(num_grupo)"
      ],
      "metadata": {
        "id": "cAOkrTimZk5Z"
      },
      "execution_count": null,
      "outputs": []
    },
    {
      "cell_type": "code",
      "source": [
        "# veamos gráfico de frecuencia sobre que grupo de acciones \n",
        "# para monedas del tipo 1\n",
        "sns.set(rc={\"figure.figsize\":(10, 5)})\n",
        "sns.histplot(df[df['idMoneda']==1], x='grupo')\n",
        "plt.xticks(rotation=90)"
      ],
      "metadata": {
        "id": "5t-I406-YWTV"
      },
      "execution_count": null,
      "outputs": []
    },
    {
      "cell_type": "code",
      "source": [
        "# podemos ver específicamente para las acciones del usuario con id=1\n",
        "sns.histplot(df[(df['idMoneda']==1)&(df['idFacu']==1)], x='grupo')\n",
        "plt.xticks(rotation=90)"
      ],
      "metadata": {
        "id": "QXekoydpZHdx"
      },
      "execution_count": null,
      "outputs": []
    },
    {
      "cell_type": "markdown",
      "source": [
        "En la columna \"importe\" parece ser que todos los valores son positivos, pero sin revisarlos manualmente a todos, ¿podemos verificarlo de manera más eficiente?\n",
        "\n",
        "Podríamos verificar que la cantidad de elementos positivos es igual a la longitud total del dataset"
      ],
      "metadata": {
        "id": "U3vZtsRAZgK-"
      }
    },
    {
      "cell_type": "code",
      "source": [
        "# los montos de los movientos están en \"importe\", son todos >0\n",
        "# comparamos que valores de esta columna son valores positivos, lo que nos \n",
        "# devuelve una serie con valores booleanos\n",
        "df['importe']>0"
      ],
      "metadata": {
        "id": "l-iNBWrjbCAm"
      },
      "execution_count": null,
      "outputs": []
    },
    {
      "cell_type": "code",
      "source": [
        "# Luego podemos comparar la suma de los elementos que cumplen True con la longitud de la columna\n",
        "(df['importe']>0).sum() == len(df['importe'])"
      ],
      "metadata": {
        "id": "e_ARUkYZbB86"
      },
      "execution_count": null,
      "outputs": []
    },
    {
      "cell_type": "markdown",
      "source": [
        "Ahora podemos calcular algunas métricas sobre la variable \"importe\". "
      ],
      "metadata": {
        "id": "kGAmlHHeb97Y"
      }
    },
    {
      "cell_type": "code",
      "source": [
        "df.importe.describe().apply(lambda s: '{0:.2f}'.format(s))"
      ],
      "metadata": {
        "id": "6tDU7DjmbB5Z"
      },
      "execution_count": null,
      "outputs": []
    },
    {
      "cell_type": "markdown",
      "source": [
        "¿Qué información brindan estas métricas y cómo usarlas? o ¿era incorrecto calcularlas para el análisis que buscamos hacer?"
      ],
      "metadata": {
        "id": "_qcN33nqcney"
      }
    },
    {
      "cell_type": "markdown",
      "source": [
        "### Fechas\n",
        "Ya que tenemos una serie temporal, podemos analizar como fue la carga de datos y que tenemos en la columna \"fecha\"\n",
        "\n",
        "Las fechas representan la variable tiempo, que no es trivial de representar en un conjunto de datos. Algunas consideraciones que podemos tener en cuenta son:\n",
        "\n",
        "- ¿Cómo afecta el tiempo al fenómeno que quiero estudiar?\n",
        "- ¿Es importante de manera absoluta o de manera relativa?\n",
        "- ¿Con qué nivel de precisión (o con qué escala) es relevante? ¿Años, días, minutos? ¿Importa la zona horaria?\n",
        "\n",
        "Además de estas preguntas conceptuales, tenemos que tener en cuenta con qué tipo de datos (de Python) están representadas estas fechas:"
      ],
      "metadata": {
        "id": "jCQGGgVEdIst"
      }
    },
    {
      "cell_type": "code",
      "source": [
        "# recordemos que tipo de datos tenemos en la columa \"fecha\"\n",
        "df.fecha.dtypes"
      ],
      "metadata": {
        "id": "09BugqnEdtTh"
      },
      "execution_count": null,
      "outputs": []
    },
    {
      "cell_type": "markdown",
      "source": [
        "¿Con qué nos encontraríamos en caso de querer graficar las fechas vs los importes con los datos sin trasnformarlos?\n",
        "\n",
        "En algunos casos al momento de querer comunicar algo, una mejor manera de presentar los datos relacionados a una serie temporal que mostrar directamente el DataFrame es presentar un lineplot"
      ],
      "metadata": {
        "id": "4kaB3M36d6o9"
      }
    },
    {
      "cell_type": "code",
      "source": [
        "sns.lineplot(data=df, x='fecha', y='importe')"
      ],
      "metadata": {
        "id": "4gUuAQmAeNXz"
      },
      "execution_count": null,
      "outputs": []
    },
    {
      "cell_type": "markdown",
      "source": [
        "Claramente existe un problema. Al leer el dataset, las fechas fueron reconocidas como números enteros. Podemos cambiar el tipo de datos a `datetime`, que es una estructura de datos diseñada para trabajar con fechas hasta una precisión de milisegundos."
      ],
      "metadata": {
        "id": "iGIIAXPgeY9z"
      }
    },
    {
      "cell_type": "code",
      "source": [
        "df['fecha']=pd.to_datetime(df['fecha'].astype(str),format='%Y%m%d')"
      ],
      "metadata": {
        "id": "XoAHqU8VUhCr"
      },
      "execution_count": null,
      "outputs": []
    },
    {
      "cell_type": "code",
      "source": [
        "# veamos como queda el tipo de dato y algunos ejemplos\n",
        "print('Tipo de datos de fecha:')\n",
        "print(df.fecha.dtypes)\n",
        "print('')\n",
        "\n",
        "display(df.head())"
      ],
      "metadata": {
        "id": "fqFjsrFEeiLc"
      },
      "execution_count": null,
      "outputs": []
    },
    {
      "cell_type": "markdown",
      "source": [
        "Ahora podemos analizar algunas métricas sobre las fechas"
      ],
      "metadata": {
        "id": "qrMKwstAfSfY"
      }
    },
    {
      "cell_type": "code",
      "source": [
        "print('Fecha inicial de los movimientos:', df.fecha.min())\n",
        "print('Fecha final de los movimientos:', df.fecha.max())\n",
        "print('Cantidad de días en los que se registraron movimientos:',df.fecha.nunique())"
      ],
      "metadata": {
        "id": "fBgg7-YOfdyM"
      },
      "execution_count": null,
      "outputs": []
    },
    {
      "cell_type": "markdown",
      "source": [
        ""
      ],
      "metadata": {
        "id": "0GvzIPI45PQi"
      }
    },
    {
      "cell_type": "code",
      "source": [
        "sns.lineplot(data=df, x='fecha', y='importe')\n",
        "plt.xticks(rotation=90)"
      ],
      "metadata": {
        "id": "O8t4Z6L_pEg6"
      },
      "execution_count": null,
      "outputs": []
    },
    {
      "cell_type": "markdown",
      "source": [
        "Dada la cantidad de días con movimientos, ¿podemos analizar si hay fechas faltantes?"
      ],
      "metadata": {
        "id": "KeXpPdYEgA6p"
      }
    },
    {
      "cell_type": "code",
      "source": [
        "# creamos un array con todas las fechas día a día desde las fechas inicial\n",
        "# y final para comparar su longitud con la cantidad de días con movimientos\n",
        "\n",
        "days = pd.date_range(df['fecha'].min(),df['fecha'].max())\n",
        "array_days = pd.DataFrame(days)\n",
        "array_days.columns=['fecha']\n",
        "\n",
        "display(array_days)\n"
      ],
      "metadata": {
        "id": "br2T0FJLgMsw"
      },
      "execution_count": null,
      "outputs": []
    },
    {
      "cell_type": "markdown",
      "source": [
        "Podemos evaluar si es igual la cantidad de días entre 02/01/2018 a 30/12/2019 es igual a la cantidad de días con movimientos "
      ],
      "metadata": {
        "id": "SpH_0NUpsUKB"
      }
    },
    {
      "cell_type": "code",
      "source": [
        "len(array_days)==df.fecha.nunique()"
      ],
      "metadata": {
        "id": "-ISRLydPU6tf"
      },
      "execution_count": null,
      "outputs": []
    },
    {
      "cell_type": "markdown",
      "source": [
        "### Más funciones para aplicar al dataset\n",
        "\n",
        "Otros ejemplos de funciones para aplicarle al dataset que podemos hacer como ejemplo podrían ser:\n",
        "- Ver cantidad de usuarios por id\n",
        "- Ver cantindad de monedas \n",
        "- Ver información de un cliente específico por id"
      ],
      "metadata": {
        "id": "6Bae64-bls29"
      }
    },
    {
      "cell_type": "markdown",
      "source": [
        "### Serie temporal de movimientos\n",
        "\n",
        "Plantearemos ahora el problema que queremos conocer el balance diario de un cliente específico para una moneda especíafica"
      ],
      "metadata": {
        "id": "p9JKr55ovo6C"
      }
    },
    {
      "cell_type": "markdown",
      "source": [
        "Tal vez para facilitar algunas de las operaciones que vamos a relizar podemos agregar una nueva variable en la que tengamos los importes de los movientos con el signo, para esto podemos definir una nueva columna del DataFrame"
      ],
      "metadata": {
        "id": "eojzUYLstwGb"
      }
    },
    {
      "cell_type": "code",
      "source": [
        "df['importeSigno']=df['signo']*df['importe']\n",
        "df.head()"
      ],
      "metadata": {
        "id": "dZg9fucBXXK0"
      },
      "execution_count": null,
      "outputs": []
    },
    {
      "cell_type": "markdown",
      "source": [
        "Supongamos ahora que nos interesa entonces la infromación de la caja de ahorro del cliente 1 en la moneda 1, para esto podemos generar un subgrupo de datos en un nuevo DataFrame"
      ],
      "metadata": {
        "id": "i9Y2fqiZvIca"
      }
    },
    {
      "cell_type": "code",
      "source": [
        "# creamos DataFrame para cliente 1 y moneda 1\n",
        "df_cliente1 = df[(df['idFacu']==1)&(df['idMoneda']==1)]\n",
        "df_cliente1.head()"
      ],
      "metadata": {
        "id": "9rdLEDO-iDLH"
      },
      "execution_count": null,
      "outputs": []
    },
    {
      "cell_type": "markdown",
      "source": [
        "Como vemos en la visualización del DataFrame es posible tener más de una operación por día, como sólo nos interesa el balance al día ¿podemos sumar los importes con signos de un mismo día?\n",
        "\n",
        "Para esto podemos usar las funciones .groupby() y .agg()"
      ],
      "metadata": {
        "id": "jU2LIwmqxuJV"
      }
    },
    {
      "cell_type": "code",
      "source": [
        "df_dia = df_cliente1.groupby('fecha').agg(sum).reset_index()\n",
        "df_dia.head()"
      ],
      "metadata": {
        "id": "N1fYEzTwiDIO"
      },
      "execution_count": null,
      "outputs": []
    },
    {
      "cell_type": "markdown",
      "source": [
        "Ahora tenemos los datos agrupados y sumados por día, ¿tienen sentido las variables que había en el DataFrame?, ¿qué pasó con va variable \"grupo\"?"
      ],
      "metadata": {
        "id": "9K3Z_BV4zz6p"
      }
    },
    {
      "cell_type": "markdown",
      "source": [
        "Con el objetivo de ver el balance diario de un cliente como una serie temporal, podríamos generar un nuevo DataFrame uniendo por fechas el balance diario calculado con el DataFrame que generamos anteriormente de todos los días entre 02/01/2018 y 30/12/2019. \n",
        "\n",
        "Una manera de hacer esto sería definir un nuevo DataFrame mediente la función .merge()"
      ],
      "metadata": {
        "id": "8g5RGx343g4f"
      }
    },
    {
      "cell_type": "code",
      "source": [
        "df_balance = pd.merge(array_days,df_dia[['fecha','importeSigno']], left_on='fecha', right_on='fecha', how='left')\n",
        "df_balance.head()"
      ],
      "metadata": {
        "id": "5xv-wjXRiDFt"
      },
      "execution_count": null,
      "outputs": []
    },
    {
      "cell_type": "markdown",
      "source": [
        "Podemos intentar hacer algún plot de este dataframe para visualizar que tenemos"
      ],
      "metadata": {
        "id": "y1qcGaEh4-ON"
      }
    },
    {
      "cell_type": "code",
      "source": [
        "fig, ax = plt.subplots(figsize=(20, 5))\n",
        "plt.plot(df_balance.fecha,df_balance.importeSigno)\n",
        "plt.xticks(rotation=90)"
      ],
      "metadata": {
        "id": "2w1-NbbQoNIM"
      },
      "execution_count": null,
      "outputs": []
    },
    {
      "cell_type": "markdown",
      "source": [
        "Con vista a nuestor objetivo, deberíamos completar con 0 los valore en los días que no se registraron movimientos"
      ],
      "metadata": {
        "id": "Ytjv7GbH7OIf"
      }
    },
    {
      "cell_type": "code",
      "source": [
        "df_balance.fillna(0, inplace=True)"
      ],
      "metadata": {
        "id": "-C4xq8kmoNFY"
      },
      "execution_count": null,
      "outputs": []
    },
    {
      "cell_type": "code",
      "source": [
        "fig, ax = plt.subplots(figsize=(20, 5))\n",
        "plt.plot(df_balance.fecha,df_balance.importeSigno)\n",
        "plt.xticks(rotation=90)"
      ],
      "metadata": {
        "id": "bBsFKIQxuvO1"
      },
      "execution_count": null,
      "outputs": []
    },
    {
      "cell_type": "markdown",
      "source": [
        "### Finalizando con el balance diario\n",
        "Con lo que hicimos hasta el momento tenemos ya un DataFrame con el registro de las actividades en la caja de ahorro diario. \n",
        "\n",
        "Para obtener el balance diario de la caja, ¿qué operaciones o transformaciones nos quedan por hacerle al conjunto de datos?"
      ],
      "metadata": {
        "id": "VSjQE4vd7v8o"
      }
    },
    {
      "cell_type": "code",
      "source": [
        "import datetime"
      ],
      "metadata": {
        "id": "hiCSq4Ir_pOk"
      },
      "execution_count": null,
      "outputs": []
    },
    {
      "cell_type": "code",
      "source": [
        "df_balance = pd.DataFrame(np.insert(df_balance.values, 0, values=[datetime.datetime.strptime('2018-01-01','%Y-%m-%d'), 100000], axis=0))\n",
        "df_balance.columns = ['fecha','importeSigno']\n",
        "df_balance.head()"
      ],
      "metadata": {
        "id": "0QjXRdLk-fTX"
      },
      "execution_count": null,
      "outputs": []
    },
    {
      "cell_type": "code",
      "source": [
        "df_balance['balance'] = df_balance['importeSigno'].cumsum()"
      ],
      "metadata": {
        "id": "K9iSM-s18efA"
      },
      "execution_count": null,
      "outputs": []
    },
    {
      "cell_type": "code",
      "source": [
        "df_balance[10:20]"
      ],
      "metadata": {
        "id": "C_gnBtTL90RK"
      },
      "execution_count": null,
      "outputs": []
    },
    {
      "cell_type": "code",
      "source": [
        "# plt.figure(figsize=(20,5))\n",
        "fig, ax = plt.subplots(figsize=(20, 5))\n",
        "\n",
        "plt.plot(df_balance.fecha,df_balance.balance)\n",
        "plt.xticks(rotation=90)"
      ],
      "metadata": {
        "id": "_2GLFKYU92gL"
      },
      "execution_count": null,
      "outputs": []
    },
    {
      "cell_type": "code",
      "source": [
        "fig, ax = plt.subplots(figsize=(20, 5))\n",
        "sns.lineplot(data=df_balance[df_balance['fecha']<'2018-04-01'], x='fecha', y='balance')\n",
        "plt.xticks(rotation=90)"
      ],
      "metadata": {
        "id": "t4VYxueTAcdN"
      },
      "execution_count": null,
      "outputs": []
    }
  ]
}
