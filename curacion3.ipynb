{
  "cells": [
    {
      "cell_type": "markdown",
      "source": [
        "<a href=\"https://colab.research.google.com/drive/1xTRIszuDqxGcSzHPGhFRTSIGK2w4a6u6#scrollTo=pH7jQQasOrPg\" target=\"_parent\"><img src=\"https://colab.research.google.com/assets/colab-badge.svg\" alt=\"Open In Colab\"/></a>"
      ],
      "metadata": {
        "id": "pH7jQQasOrPg"
      }
    },
    {
      "cell_type": "markdown",
      "metadata": {
        "id": "xUITOg5OlR3C"
      },
      "source": [
        "# Limpieza de datos"
      ]
    },
    {
      "cell_type": "markdown",
      "metadata": {
        "id": "8Q2Rvr2SlR3G"
      },
      "source": [
        "Vamos a aplicar el [checklist del Banco Mundial](https://dimewiki.worldbank.org/wiki/Checklist:_Data_Cleaning) en Python usando principalmente pandas."
      ]
    },
    {
      "cell_type": "markdown",
      "metadata": {
        "id": "0Z9ck1e6FMXn"
      },
      "source": [
        "## 0. Prerequisitos"
      ]
    },
    {
      "cell_type": "markdown",
      "metadata": {
        "id": "ExcdzzxglR3H"
      },
      "source": [
        "Aclaración: La próxima celda es para compatilibidad con Colab, NO ES RECOMENDADO realizar pip install desde un notebook."
      ]
    },
    {
      "cell_type": "code",
      "execution_count": null,
      "metadata": {
        "id": "53S0ap0UFLRz"
      },
      "outputs": [],
      "source": [
        "!pip install 'ftfy<5.6'\n",
        "!pip install -U -q PyDrive\n",
        "from pydrive.auth import GoogleAuth\n",
        "from pydrive.drive import GoogleDrive\n",
        "from google.colab import auth\n",
        "from oauth2client.client import GoogleCredentials\n",
        "\n",
        "auth.authenticate_user()\n",
        "gauth = GoogleAuth()\n",
        "gauth.credentials = GoogleCredentials.get_application_default()\n",
        "drive = GoogleDrive(gauth)"
      ]
    },
    {
      "cell_type": "markdown",
      "metadata": {
        "id": "JdBwThWjlR3J"
      },
      "source": [
        "# 1. Importando los datos"
      ]
    },
    {
      "cell_type": "markdown",
      "metadata": {
        "id": "uD9wmnXUYStG"
      },
      "source": [
        "# 1.1. Verificar que no hay problemas en la importación"
      ]
    },
    {
      "cell_type": "code",
      "execution_count": null,
      "metadata": {
        "id": "VYFnOBCKYStI"
      },
      "outputs": [],
      "source": [
        "import pandas as pd\n",
        "pd.options.display.float_format = '{:.2f}'.format"
      ]
    },
    {
      "cell_type": "code",
      "source": [
        "# sharing link: \"https://drive.google.com/file/d/1QT8At_qS_BNaR5IW5cNhB0MQYSghqmvw/view?usp=sharing\"\n",
        "\n",
        "fileDownloaded = drive.CreateFile({'id':'1QT8At_qS_BNaR5IW5cNhB0MQYSghqmvw'})\n",
        "fileDownloaded.GetContentFile('ks-projects-201801.csv')"
      ],
      "metadata": {
        "id": "0rkffqTVh6bF"
      },
      "execution_count": null,
      "outputs": []
    },
    {
      "cell_type": "markdown",
      "metadata": {
        "id": "0MdlP2YUYStN"
      },
      "source": [
        "Veamos de importar datos de proyectos de Kickstarter la plataforma de Crowdsourcing"
      ]
    },
    {
      "cell_type": "code",
      "execution_count": null,
      "metadata": {
        "id": "Ee_D4yTvYStN"
      },
      "outputs": [],
      "source": [
        "kickstarter_2018 = pd.read_csv('ks-projects-201801.csv')"
      ]
    },
    {
      "cell_type": "markdown",
      "metadata": {
        "id": "2p0dbU1yYStY"
      },
      "source": [
        "Veamos los datos cargados en el dataframe"
      ]
    },
    {
      "cell_type": "code",
      "execution_count": null,
      "metadata": {
        "id": "etZ09t5MYStZ"
      },
      "outputs": [],
      "source": [
        "kickstarter_2018"
      ]
    },
    {
      "cell_type": "markdown",
      "metadata": {
        "id": "MFpogEXQYStc"
      },
      "source": [
        "Por defecto solo vemos los valores al comienzo o al final del archivo.\n",
        "\n",
        "Tomemos una muestra al azar para ver valores más dispersos"
      ]
    },
    {
      "cell_type": "code",
      "execution_count": null,
      "metadata": {
        "id": "Upvlit8QYStd"
      },
      "outputs": [],
      "source": [
        "# fijamos una semilla para reproducibilidad \n",
        "import numpy as np\n",
        "np.random.seed(0)"
      ]
    },
    {
      "cell_type": "code",
      "execution_count": null,
      "metadata": {
        "id": "vDQdf2xEYStf"
      },
      "outputs": [],
      "source": [
        "kickstarter_2018.sample(5)"
      ]
    },
    {
      "cell_type": "markdown",
      "metadata": {
        "id": "e-cEmDnQYSti"
      },
      "source": [
        "No se observa a simple vista ningún problema obvio.\n",
        "\n",
        "Notar que todos vimos los mismos resultados. Al fijar la semilla no hubo tal azar, esto es algo necesario cuando queremos \"reproducir valores aleatorios\""
      ]
    },
    {
      "cell_type": "markdown",
      "metadata": {
        "id": "O7mBSqudYStj"
      },
      "source": [
        "Veamos la descripción del dataset si se corresponde con lo levantado https://www.kaggle.com/kemical/kickstarter-projects/data"
      ]
    },
    {
      "cell_type": "code",
      "execution_count": null,
      "metadata": {
        "id": "GMoezCxSYStk"
      },
      "outputs": [],
      "source": [
        "pd.DataFrame([[\"ID\", \"No description provided\", \"Numeric\"],\n",
        "[\"name\", \"No description provided\", \"String\"],\n",
        "[\"category\", \"No description provided\", \"String\"],\n",
        "[\"main_category\", \"No description provided\", \"String\"],\n",
        "[\"currency\", \"No description provided\", \"String\"],\n",
        "[\"deadline\", \"No description provided\", \"DateTime\"],\n",
        "[\"goal\", \"Goal amount in project currency\", \"Numeric\"],\n",
        "[\"launched\", \"No description provided\", \"DateTime\"],\n",
        "[\"pledged\", \"Pledged amount in the project currency\", \"Numeric\"],\n",
        "[\"state\", \"No description provided\", \"String\"],\n",
        "[\"backers\", \"No description provided\", \"Numeric\"],\n",
        "[\"country\", \"No description provided\", \"String\"],\n",
        "[\"usd pledged\", \"Pledged amount in USD (conversion made by KS)\", \"Numeric\"],\n",
        "[\"usd_pledged_real\", \"Pledged amount in USD (conversion made by fixer.io api)\", \"Numeric\"],\n",
        "[\"usd_goal_real\", \"Goal amount in USD\", \"Numeric\"]], columns=[\"Field name\",\"Field description\", \"Type\"])"
      ]
    },
    {
      "cell_type": "markdown",
      "metadata": {
        "id": "q0TMGa0jlR3Q"
      },
      "source": [
        "Ahora veamos los tipos de datos que detectó pandas"
      ]
    },
    {
      "cell_type": "code",
      "execution_count": null,
      "metadata": {
        "id": "kYTfRt4GYStn"
      },
      "outputs": [],
      "source": [
        "kickstarter_2018.dtypes"
      ]
    },
    {
      "cell_type": "markdown",
      "metadata": {
        "id": "9mmqjlyoYStq"
      },
      "source": [
        "Los campos object generalmente son String, entonces parece que no reconoció como fechas en **deadline** y **launched**"
      ]
    },
    {
      "cell_type": "markdown",
      "metadata": {
        "id": "tovZm0SrYStq"
      },
      "source": [
        "Veamos los datos un resumen de los datos"
      ]
    },
    {
      "cell_type": "code",
      "execution_count": null,
      "metadata": {
        "id": "rJYD_yW5YStr"
      },
      "outputs": [],
      "source": [
        "kickstarter_2018.describe()"
      ]
    },
    {
      "cell_type": "markdown",
      "metadata": {
        "id": "JE0dlfRdYStv"
      },
      "source": [
        "Por defecto se ven los datos numéricos, veamos el resto."
      ]
    },
    {
      "cell_type": "code",
      "execution_count": null,
      "metadata": {
        "id": "F3vOZk3zYStw"
      },
      "outputs": [],
      "source": [
        "kickstarter_2018.describe(include=['object'])"
      ]
    },
    {
      "cell_type": "markdown",
      "metadata": {
        "id": "ql55gxdOYStz"
      },
      "source": [
        "Operemos un cacho sobre los datos de lanzamiento"
      ]
    },
    {
      "cell_type": "code",
      "execution_count": null,
      "metadata": {
        "id": "lWP5PHJdYSt0"
      },
      "outputs": [],
      "source": [
        "kickstarter_2018['launched'].min()"
      ]
    },
    {
      "cell_type": "markdown",
      "metadata": {
        "id": "lBuefqnNYSt3"
      },
      "source": [
        "Parece funcionar, pero ahora calculemos el rango de fechas de los proyectos"
      ]
    },
    {
      "cell_type": "code",
      "execution_count": null,
      "metadata": {
        "id": "Eohs3eNwYSt4"
      },
      "outputs": [],
      "source": [
        "kickstarter_2018['launched'].max() - kickstarter_2018['launched'].min()"
      ]
    },
    {
      "cell_type": "markdown",
      "metadata": {
        "id": "29NhQ8eEYSt9"
      },
      "source": [
        "Indiquemos que columnas son fechas como indica la [documentación](https://pandas.pydata.org/pandas-docs/stable/io.html#datetime-handling)"
      ]
    },
    {
      "cell_type": "code",
      "execution_count": null,
      "metadata": {
        "id": "8Y21tDSYYSt_"
      },
      "outputs": [],
      "source": [
        "kickstarter_2018 = pd.read_csv(\"ks-projects-201801.csv\", parse_dates=[\"deadline\",\"launched\"])\n",
        "kickstarter_2018.dtypes"
      ]
    },
    {
      "cell_type": "markdown",
      "metadata": {
        "id": "qKtgnTnYYSuD"
      },
      "source": [
        "Ahora vemos que esas columnas fueron reconocidas como fechas\n",
        "\n",
        "Veamos la misma muestra de nuevo"
      ]
    },
    {
      "cell_type": "code",
      "execution_count": null,
      "metadata": {
        "id": "PW04V4DiYSuF"
      },
      "outputs": [],
      "source": [
        "kickstarter_2018.sample(5)"
      ]
    },
    {
      "cell_type": "markdown",
      "metadata": {
        "id": "yizWLJJ6YSuI"
      },
      "source": [
        "Y veamos el resumen de los datos"
      ]
    },
    {
      "cell_type": "code",
      "execution_count": null,
      "metadata": {
        "id": "2PAmAj3XYSuJ"
      },
      "outputs": [],
      "source": [
        "kickstarter_2018.describe(include='all')"
      ]
    },
    {
      "cell_type": "markdown",
      "metadata": {
        "id": "WSd5WYsMYSuQ"
      },
      "source": [
        "Podemos ver que tenemos primero y último en el resumen de las columnas de fechas.\n",
        "\n",
        "Ahora deberíamos poder calcular el rango de fechas de lanzamietos"
      ]
    },
    {
      "cell_type": "code",
      "execution_count": null,
      "metadata": {
        "id": "8qhSEoVJYSuR"
      },
      "outputs": [],
      "source": [
        "kickstarter_2018['launched'].max() - kickstarter_2018['launched'].min()"
      ]
    },
    {
      "cell_type": "markdown",
      "metadata": {
        "id": "kUuWg5XxYSuU"
      },
      "source": [
        "# 1.2. Asegurar de tener ids/claves únicas"
      ]
    },
    {
      "cell_type": "markdown",
      "metadata": {
        "id": "a8kLSONTYSuV"
      },
      "source": [
        "Chequear que no hay datos duplicados"
      ]
    },
    {
      "cell_type": "code",
      "execution_count": null,
      "metadata": {
        "id": "wIbpcwGKYSuW"
      },
      "outputs": [],
      "source": [
        "kickstarter_2018.shape"
      ]
    },
    {
      "cell_type": "markdown",
      "metadata": {
        "id": "i7G-CgtjlR3U"
      },
      "source": [
        "Pandas soporta índices en los DataFrames vamos a recargar el conjunto de datos"
      ]
    },
    {
      "cell_type": "code",
      "execution_count": null,
      "metadata": {
        "id": "85qApsv2YSuZ"
      },
      "outputs": [],
      "source": [
        "kickstarter_2018 = pd.read_csv(\"ks-projects-201801.csv\", \n",
        "                               parse_dates=[\"deadline\",\"launched\"],\n",
        "                               index_col=['ID'])"
      ]
    },
    {
      "cell_type": "code",
      "execution_count": null,
      "metadata": {
        "id": "zUl3zjhQYSuc"
      },
      "outputs": [],
      "source": [
        "kickstarter_2018"
      ]
    },
    {
      "cell_type": "code",
      "execution_count": null,
      "metadata": {
        "id": "RirO_GHkYSuf"
      },
      "outputs": [],
      "source": [
        "kickstarter_2018.shape"
      ]
    },
    {
      "cell_type": "markdown",
      "metadata": {
        "id": "s4JBYgPNlR3V"
      },
      "source": [
        "De esta forma podemos buscar por el índice"
      ]
    },
    {
      "cell_type": "code",
      "execution_count": null,
      "metadata": {
        "id": "StsOLlDylR3V"
      },
      "outputs": [],
      "source": [
        "kickstarter_2018.loc[999988282]"
      ]
    },
    {
      "cell_type": "markdown",
      "metadata": {
        "id": "NBKTYDZelR3V"
      },
      "source": [
        "También podemos verificar si hay filas de contenidos duplicado con la función `.duplicated()`"
      ]
    },
    {
      "cell_type": "code",
      "execution_count": null,
      "metadata": {
        "id": "ezFOfJESYSui"
      },
      "outputs": [],
      "source": [
        "kickstarter_2018[kickstarter_2018.duplicated()]"
      ]
    },
    {
      "cell_type": "markdown",
      "metadata": {
        "id": "prTODlFelR3W"
      },
      "source": [
        "Como Pandas acepta valores duplicados en los índices también debemos verificar ahí"
      ]
    },
    {
      "cell_type": "code",
      "execution_count": null,
      "metadata": {
        "id": "q8wHf30nlR3W"
      },
      "outputs": [],
      "source": [
        "pd.Series(kickstarter_2018.index,dtype=str).describe()"
      ]
    },
    {
      "cell_type": "code",
      "execution_count": null,
      "metadata": {
        "id": "cFRwXzLklR3W"
      },
      "outputs": [],
      "source": [
        "kickstarter_2018[kickstarter_2018.index.duplicated()]"
      ]
    },
    {
      "cell_type": "markdown",
      "metadata": {
        "id": "V5or1cJPlR3W"
      },
      "source": [
        "Repasamos con un ejemplo de juguete, creamos un string separado por comas y en varias lineas para combertirlo luego en tabla"
      ]
    },
    {
      "cell_type": "code",
      "execution_count": null,
      "metadata": {
        "id": "YJFhG_xcYSul"
      },
      "outputs": [],
      "source": [
        "csv='1,2,A,2022\\n3,3,B,2022\\n1,3,B,2022\\n1,3,A,2021'\n",
        "print(csv)"
      ]
    },
    {
      "cell_type": "code",
      "execution_count": null,
      "metadata": {
        "id": "rNyteTc8YSuo"
      },
      "outputs": [],
      "source": [
        "from io import StringIO\n",
        "df = pd.read_csv(StringIO(csv), names=['id','value','name','year'], index_col='id')\n",
        "df"
      ]
    },
    {
      "cell_type": "markdown",
      "source": [
        "Mostremos filas duplicadas"
      ],
      "metadata": {
        "id": "S98EVxNHEQel"
      }
    },
    {
      "cell_type": "code",
      "execution_count": null,
      "metadata": {
        "id": "9WWSayCYYSus"
      },
      "outputs": [],
      "source": [
        "df[df.duplicated()]"
      ]
    },
    {
      "cell_type": "markdown",
      "source": [
        "Mostremos filas con la variable name duplicada"
      ],
      "metadata": {
        "id": "m_ScRVnKEtL5"
      }
    },
    {
      "cell_type": "code",
      "source": [
        "df[df.name.duplicated()]"
      ],
      "metadata": {
        "id": "7cZqKZp_Esbu"
      },
      "execution_count": null,
      "outputs": []
    },
    {
      "cell_type": "code",
      "source": [
        "df[df.name.duplicated(keep=False)]"
      ],
      "metadata": {
        "id": "cP24IeN6E9g4"
      },
      "execution_count": null,
      "outputs": []
    },
    {
      "cell_type": "markdown",
      "source": [
        "Seleccionemos todas las filas con índicies duplicadas\n"
      ],
      "metadata": {
        "id": "tx1tPLbmEXtF"
      }
    },
    {
      "cell_type": "code",
      "execution_count": null,
      "metadata": {
        "id": "r7e3fEnWYSuu"
      },
      "outputs": [],
      "source": [
        "df[df.index.duplicated(keep=False)]"
      ]
    },
    {
      "cell_type": "markdown",
      "metadata": {
        "id": "aSuLcuqolR3X"
      },
      "source": [
        "#### Ejercicio 1:\n",
        "\n",
        "Armar una tabla con todos los proyectos con nombres duplicados, ordenados para revisar agrupados. "
      ]
    },
    {
      "cell_type": "markdown",
      "metadata": {
        "id": "NeVjrYP2YSu2"
      },
      "source": [
        "# 1.3. Despersonalizar datos y guardarlos en un nuevo archivo"
      ]
    },
    {
      "cell_type": "markdown",
      "metadata": {
        "id": "oKIo48BBYSu3"
      },
      "source": [
        "Hay muchas técnicas para despersonalizar datos.\n",
        "\n",
        "Para ilustrar mostramos las ofrecidas por Google https://cloud.google.com/dlp/docs/transformations-reference:\n",
        "\n",
        "* **Reemplazo**: Reemplaza cada valor de entrada con un valor determinado.\n",
        "* **Ocultamiento**: Quita un valor y lo oculta.\n",
        "* **Enmascaramiento con caracteres**: Enmascara una string por completo o parcialmente mediante el reemplazo de un número determinado de caracteres con un carácter fijo especificado..\n",
        "* **Seudonimización mediante el reemplazo de un valor de entrada con un hash criptográfico**: Reemplaza valores de entrada con una string hexadecimal de 32 bytes mediante una clave de encriptación de datos.\n",
        "* **Cambio de fechas**: Cambia las fechas por un número de días al azar, con la opción de ser coherente en el mismo contexto..\n",
        "* **Seudonimización mediante el reemplazo con token de preservación de formato criptográfico**: Reemplaza un valor de entrada con un token, o valor sustituto, de la misma longitud mediante la encriptación de preservación de formato (FPE) con el modo de operación FFX. Esto permite que se use el resultado en sistemas con validación de formato o que necesitan aparecer como reales a pesar de que la información no se revela.\n",
        "* **Valores de depósito con base en rangos de tamaño fijos**: Enmascara los valores de entrada y los reemplaza por depósitos, o rangos dentro de los cuales se encuentra el valor de entrada.\n",
        "* **Valores de depósito con base en rangos de tamaño personalizados**: Valores de entrada de depósito con base en rangos configurables por el usuario y valores de reemplazo.\n",
        "* **Extracción de datos de tiempo**: EExtrae o preserva una porción de los valores Date, Timestamp y TimeOfDay."
      ]
    },
    {
      "cell_type": "code",
      "execution_count": null,
      "metadata": {
        "id": "VQ5HQI73YSu3"
      },
      "outputs": [],
      "source": [
        "from hashlib import md5"
      ]
    },
    {
      "cell_type": "markdown",
      "source": [
        "Apliquemos la función MD5 hash para reemplazar los valores de nombres, veamos como aplicarlos sobre un string\n",
        "\n",
        "Funciones asociadas a md5:\n",
        "\n",
        "\n",
        "*   encode():  para convertir string a bytes\n",
        "*   digest():  para retornar la información en bytes\n",
        "*   hexdigest():  para recuperar la información en formato hexadecimal "
      ],
      "metadata": {
        "id": "Bn9UhBgEFDke"
      }
    },
    {
      "cell_type": "code",
      "source": [
        "string = 'Universidad Nacional de Córdoba'\n",
        "md5(string)"
      ],
      "metadata": {
        "id": "O52EwoJxHKld"
      },
      "execution_count": null,
      "outputs": []
    },
    {
      "cell_type": "markdown",
      "source": [
        "Esto nos devuelve un error porque no se puede aplicar directamente a strings, para eso usamos la función `.encode()` para convertir los strings en bytes "
      ],
      "metadata": {
        "id": "HWwII0eYGELp"
      }
    },
    {
      "cell_type": "code",
      "source": [
        "md5(string.encode())"
      ],
      "metadata": {
        "id": "MM4f2HxJHTbu"
      },
      "execution_count": null,
      "outputs": []
    },
    {
      "cell_type": "code",
      "source": [
        "md5(string.encode()).hexdigest()"
      ],
      "metadata": {
        "id": "bYW9tRveJSZD"
      },
      "execution_count": null,
      "outputs": []
    },
    {
      "cell_type": "markdown",
      "source": [
        "Veamos de aplicarlo ahora a toda la columna de la variable nombre y veamos que tenemos"
      ],
      "metadata": {
        "id": "K7-9m2CjJcDd"
      }
    },
    {
      "cell_type": "code",
      "execution_count": null,
      "metadata": {
        "id": "LL_nCq68YSu8"
      },
      "outputs": [],
      "source": [
        "def hashit(val):\n",
        "    return md5(val.encode('utf-8'))\n",
        "\n",
        "kickstarter_2018['name'].apply(hashit)"
      ]
    },
    {
      "cell_type": "markdown",
      "source": [
        "Esto nos da error al utilizar enconde con algún valor considerado como numérico, a continuación se puede tratar de ver donde es que hay problemas, queda de ejercicio entender que hace la siguiente cell"
      ],
      "metadata": {
        "id": "fdIOq-dFKBV7"
      }
    },
    {
      "cell_type": "code",
      "execution_count": null,
      "metadata": {
        "id": "Hsxx-0ovYSvA"
      },
      "outputs": [],
      "source": [
        "def hashit(val):\n",
        "    try:\n",
        "        return md5(val.encode('utf-8'))\n",
        "    except Exception as e:\n",
        "        print(val, type(val))\n",
        "        raise(e)\n",
        "\n",
        "kickstarter_2018['name'].apply(hashit)"
      ]
    },
    {
      "cell_type": "markdown",
      "source": [
        "Finalmente una manera de aplicar hash a todos los nombre es la siguiente, convirtiendo cualqueir nombre al tipo string"
      ],
      "metadata": {
        "id": "2GnG9igCJw4m"
      }
    },
    {
      "cell_type": "code",
      "execution_count": null,
      "metadata": {
        "id": "Dv1gB3GpYSvF"
      },
      "outputs": [],
      "source": [
        "def hashit(val):\n",
        "    if isinstance(val, float): \n",
        "        return str(val)\n",
        "    return md5(val.encode('utf-8')).hexdigest()\n",
        "\n",
        "\n",
        "kickstarter_2018['name'].apply(hashit)"
      ]
    },
    {
      "cell_type": "markdown",
      "metadata": {
        "id": "r-IcwfaElR3Z"
      },
      "source": [
        "#### Ejercicio 2:\n",
        "\n",
        "Verificar que los proyectos que tienen nombres duplicados también tienen el hash de nombre duplicado"
      ]
    },
    {
      "cell_type": "markdown",
      "metadata": {
        "id": "XGk94uFaYSvI"
      },
      "source": [
        "# 1.4. Nunca modificar los datos crudos u originales\n"
      ]
    },
    {
      "cell_type": "markdown",
      "source": [
        "A continuación guardamos el dataset con el que vamos a seguir trabajando en un nuevo archivo para no modificar el dataset original"
      ],
      "metadata": {
        "id": "nM_bCM08K-lV"
      }
    },
    {
      "cell_type": "code",
      "execution_count": null,
      "metadata": {
        "id": "ZicBTqBaYSvJ"
      },
      "outputs": [],
      "source": [
        "kickstarter_2018.to_csv(\"ks-projects-201801-mod.csv\")"
      ]
    },
    {
      "cell_type": "markdown",
      "metadata": {
        "id": "XzR8-UpTIS8S"
      },
      "source": [
        "\n",
        "# 2. Pasos necesarios\n"
      ]
    },
    {
      "cell_type": "code",
      "execution_count": null,
      "metadata": {
        "id": "jY_rB6dIIXTS"
      },
      "outputs": [],
      "source": [
        "#import pandas as pd\n",
        "kickstarter_2018 = pd.read_csv(\"ks-projects-201801-mod.csv\",\n",
        "                        index_col='ID',\n",
        "                        parse_dates=['deadline','launched'])"
      ]
    },
    {
      "cell_type": "code",
      "execution_count": null,
      "metadata": {
        "id": "dXFOyYeiIXTV"
      },
      "outputs": [],
      "source": [
        "kickstarter_2018.describe(include='all')"
      ]
    },
    {
      "cell_type": "markdown",
      "metadata": {
        "id": "OUA2hGvQIXTX"
      },
      "source": [
        "## 2.1. Etiquetas de variables/columnas: no usar caracteres especiales\n",
        "\n"
      ]
    },
    {
      "cell_type": "code",
      "execution_count": null,
      "metadata": {
        "id": "BkdI2pVDIXTX"
      },
      "outputs": [],
      "source": [
        "# helpful character encoding module\n",
        "import chardet"
      ]
    },
    {
      "cell_type": "markdown",
      "metadata": {
        "id": "lfyjvGsmIXTZ"
      },
      "source": [
        "¿Por qué? Por que aun hay limitaciones para trabajar con estos caracteres.\n",
        "\n",
        "¿Cúales son los caracteres \"normales\"? "
      ]
    },
    {
      "cell_type": "code",
      "execution_count": null,
      "metadata": {
        "id": "fTc3NFPpIXTZ"
      },
      "outputs": [],
      "source": [
        "import string\n",
        "\n",
        "string.ascii_letters + string.digits"
      ]
    },
    {
      "cell_type": "markdown",
      "metadata": {
        "id": "tWbcEuejIXTb"
      },
      "source": [
        "¿Qué es ASCII? Es una de las primeras codificaciones (o encoding) disponibles. Ver https://en.wikipedia.org/wiki/ASCII\n",
        "\n",
        "Un encoding es un mapa de caracteres a una representación en bits (por ejemplo 1000001). ASCII es uno de los primeros estandares para interoperatividad entre computadoras (antes cada fabricante de computadora usa su propia codificación), contempla sólo los caracteres ingleses y usa 7 bits, por ejemplo *1000001* codifica el caracter *A*\n",
        "\n",
        "Como sólo representaban los caracteres ingleses, empiezan a aparecer variantes para distintos idiomas, Microsoft hizo los propios para internacionalizar Windows, hubo otro estandar ISO 8859, hasta que llegó el éstandar Unicode que hizo múltiples encodings pero cada uno contempla múltiples idiomas e incluso es extensible a futuro. UTF-8 es de esos encodings el más utilizado. Ver https://en.wikipedia.org/wiki/Unicode\n",
        "\n",
        "En particular, Python 3 utiliza UTF-8 por defecto (lo que no sucedía en Python 2).\n",
        "\n",
        "Veamos un ejemplo práctico"
      ]
    },
    {
      "cell_type": "code",
      "execution_count": null,
      "metadata": {
        "id": "uiUtEXG1IXTb"
      },
      "outputs": [],
      "source": [
        "# start with a string\n",
        "before = \"This is the euro symbol: €\"\n",
        "\n",
        "# check to see what datatype it is\n",
        "type(before)"
      ]
    },
    {
      "cell_type": "code",
      "execution_count": null,
      "metadata": {
        "id": "ISgFFMiiIXTc"
      },
      "outputs": [],
      "source": [
        "# encode it to a different encoding, replacing characters that raise errors\n",
        "after = before.encode(\"utf-8\", errors = \"replace\")\n",
        "\n",
        "# check the type\n",
        "type(after)"
      ]
    },
    {
      "cell_type": "code",
      "execution_count": null,
      "metadata": {
        "id": "psYCTaZCIXTe"
      },
      "outputs": [],
      "source": [
        "# take a look at what the bytes look like\n",
        "after"
      ]
    },
    {
      "cell_type": "code",
      "execution_count": null,
      "metadata": {
        "id": "fkbXONwzIXTf"
      },
      "outputs": [],
      "source": [
        "# convert it back to utf-8\n",
        "print(after.decode(\"utf-8\"))"
      ]
    },
    {
      "cell_type": "code",
      "execution_count": null,
      "metadata": {
        "id": "YeEGsG5pIXTh"
      },
      "outputs": [],
      "source": [
        "# try to decode our bytes with the ascii encoding\n",
        "print(after.decode(\"ascii\"))"
      ]
    },
    {
      "cell_type": "code",
      "execution_count": null,
      "metadata": {
        "id": "3RRKGvArIXTk"
      },
      "outputs": [],
      "source": [
        "# start with a string\n",
        "before = \"This is the euro symbol: €\"\n",
        "\n",
        "# encode it to a different encoding, replacing characters that raise errors\n",
        "after = before.encode(\"ascii\", errors = \"replace\")\n",
        "\n",
        "# convert it back to utf-8\n",
        "print(after.decode(\"ascii\"))\n",
        "\n",
        "# We've lost the original underlying byte string! It's been \n",
        "# replaced with the underlying byte string for the unknown character :("
      ]
    },
    {
      "cell_type": "markdown",
      "source": [
        "Carguemos ahora otro dataset, con los proyectos a diciembre de 2016 para ver los detalles de los nombres "
      ],
      "metadata": {
        "id": "JSr9KRetMKV5"
      }
    },
    {
      "cell_type": "code",
      "source": [
        "# sharing link: \"https://drive.google.com/file/d/1eQVshDQy6xt4ghA0kp87Uyp3eoeK7LSL/view?usp=sharing\"\n",
        "\n",
        "fileDownloaded = drive.CreateFile({'id':'1eQVshDQy6xt4ghA0kp87Uyp3eoeK7LSL'})\n",
        "fileDownloaded.GetContentFile('ks-projects-201612.csv')"
      ],
      "metadata": {
        "id": "Ch6iGbLVL5Pi"
      },
      "execution_count": null,
      "outputs": []
    },
    {
      "cell_type": "code",
      "execution_count": null,
      "metadata": {
        "id": "vmfM_HNWIXTn"
      },
      "outputs": [],
      "source": [
        "kickstarter_2016 = pd.read_csv(\"ks-projects-201612.csv\")"
      ]
    },
    {
      "cell_type": "markdown",
      "metadata": {
        "id": "PP9Xzf3qIXTt"
      },
      "source": [
        "El error nos indica que el archivo no estaría en Unicode. Si no está en algún metadato o no fue indicado es dificil detectar el encoding, por suerte hay un paquete para esto en Python, que aplica unas heurísticas para detectar encoding."
      ]
    },
    {
      "cell_type": "code",
      "execution_count": null,
      "metadata": {
        "id": "KVSigmfDIXTv"
      },
      "outputs": [],
      "source": [
        "# look at the first ten thousand bytes to guess the character encoding\n",
        "with open(\"ks-projects-201612.csv\", 'rb') as rawdata:\n",
        "    result = chardet.detect(rawdata.read(10000))\n",
        "\n",
        "# check what the character encoding might be\n",
        "result"
      ]
    },
    {
      "cell_type": "markdown",
      "metadata": {
        "id": "BRvRjn15IXTy"
      },
      "source": [
        "Entonces le podemos indicar el encoding al leer el archivos"
      ]
    },
    {
      "cell_type": "code",
      "execution_count": null,
      "metadata": {
        "id": "HpHQldSDIXTz"
      },
      "outputs": [],
      "source": [
        "# read in the file with the encoding detected by chardet\n",
        "kickstarter_2016 = pd.read_csv(\"ks-projects-201612.csv\", encoding='Windows-1252')\n",
        "\n",
        "# look at the first few lines\n",
        "kickstarter_2016.head()"
      ]
    },
    {
      "cell_type": "markdown",
      "metadata": {
        "id": "EaBiRboHIXT6"
      },
      "source": [
        "Hay otro problema con los caracteres que es más sutíl: **[Mojibake](https://en.wikipedia.org/wiki/Mojibake)**\n",
        "\n",
        "Sucede al leer UTF-8 como ASCII extendido (ie. `Windows-*`, `iso-8859-*` entre otros)\n",
        "\n",
        "Ejemplo de mojibake:"
      ]
    },
    {
      "cell_type": "code",
      "execution_count": null,
      "metadata": {
        "id": "5dFhIonJIXT6"
      },
      "outputs": [],
      "source": [
        "\"cigüeña\".encode('utf-8').decode('iso-8859-1')"
      ]
    },
    {
      "cell_type": "markdown",
      "metadata": {
        "id": "GYrNcEWGIXT8"
      },
      "source": [
        "Para esto vamos a usar un módulo específico [ftfy](https://ftfy.readthedocs.io/en/latest/). \n",
        "\n",
        "Que nos permite ordenar cadenas por rareza"
      ]
    },
    {
      "cell_type": "code",
      "execution_count": null,
      "metadata": {
        "id": "iKpvvruQIXT8"
      },
      "outputs": [],
      "source": [
        "import ftfy.badness as bad"
      ]
    },
    {
      "cell_type": "code",
      "execution_count": null,
      "metadata": {
        "id": "qRTGjyZ-IXT-"
      },
      "outputs": [],
      "source": [
        "def weird(val):\n",
        "    if isinstance(val, float): \n",
        "        return 0\n",
        "    return bad.sequence_weirdness(val)\n",
        "\n",
        "\n",
        "kickstarter_2018['name_weirdness'] = kickstarter_2018['name'].apply(weird)\n",
        "kickstarter_2018[kickstarter_2018['name_weirdness'] > 1]"
      ]
    },
    {
      "cell_type": "markdown",
      "metadata": {
        "id": "IWvV8C1LIXUA"
      },
      "source": [
        "Volviendo a la consigna original, chequeamos que no haya caracteres fuera de a-Z, 0-9 y _ en los nombres de columnas"
      ]
    },
    {
      "cell_type": "code",
      "execution_count": null,
      "metadata": {
        "id": "dll59dNxIXUA"
      },
      "outputs": [],
      "source": [
        "kickstarter_2018.columns[~kickstarter_2018.columns.str.match(r'^(\\w+)$')]"
      ]
    },
    {
      "cell_type": "code",
      "execution_count": null,
      "metadata": {
        "id": "QvhxXo1xIXUE"
      },
      "outputs": [],
      "source": [
        "kickstarter_2018.usd_pledged.head()"
      ]
    },
    {
      "cell_type": "code",
      "execution_count": null,
      "metadata": {
        "id": "qq6sydy8IXUG",
        "scrolled": true
      },
      "outputs": [],
      "source": [
        "kickstarter_2018.columns = kickstarter_2018.columns.str.replace(' ', '_')\n",
        "kickstarter_2018.head()"
      ]
    },
    {
      "cell_type": "code",
      "execution_count": null,
      "metadata": {
        "id": "O92pigy9IXUH"
      },
      "outputs": [],
      "source": [
        "kickstarter_2018.usd_pledged.head()"
      ]
    },
    {
      "cell_type": "markdown",
      "metadata": {
        "id": "9RSYRXyBlR3e"
      },
      "source": [
        "#### Ejercicio 3\n",
        "\n",
        "Comparar la cantidad de nombres raros en kickstarter_2018 con la que obtenemos al cargar 'ks-projects-201801.csv' con encoding iso-8859-1."
      ]
    },
    {
      "cell_type": "markdown",
      "metadata": {
        "id": "ahRhnkZ7IXUI"
      },
      "source": [
        "## 2.2. Tratar valores faltantes\n",
        "\n",
        "Veamos cuantos valores nulos tenemos"
      ]
    },
    {
      "cell_type": "code",
      "execution_count": null,
      "metadata": {
        "id": "UkbDCMZtIXUJ",
        "scrolled": true
      },
      "outputs": [],
      "source": [
        "# get the number of missing data points per column\n",
        "missing_values_count = kickstarter_2018.isnull().sum()\n",
        "\n",
        "# look at the # of missing points in the first ten columns\n",
        "missing_values_count[missing_values_count > 0]"
      ]
    },
    {
      "cell_type": "markdown",
      "metadata": {
        "id": "ei4crVAtlR3e"
      },
      "source": [
        "Esta medida en sí, no dice nada más que con cuantos valores debemos lidiar. \n",
        "\n",
        "Primero tenemos que ver si en términos relativos su impacto."
      ]
    },
    {
      "cell_type": "code",
      "execution_count": null,
      "metadata": {
        "id": "1WC9vl6mIXUK"
      },
      "outputs": [],
      "source": [
        "len(kickstarter_2018.dropna())/len(kickstarter_2018)"
      ]
    },
    {
      "cell_type": "code",
      "execution_count": null,
      "metadata": {
        "id": "eqv839nVIXUN"
      },
      "outputs": [],
      "source": [
        "len(kickstarter_2018.dropna(subset=['name']))/len(kickstarter_2018)"
      ]
    },
    {
      "cell_type": "markdown",
      "metadata": {
        "id": "Bxi1ZgsylR3f"
      },
      "source": [
        "También debemos ver que significan en términos de representatividad e importancia de nuestro análisis."
      ]
    },
    {
      "cell_type": "code",
      "execution_count": null,
      "metadata": {
        "id": "2Aa4DZm1IXUO"
      },
      "outputs": [],
      "source": [
        "kickstarter_2018[kickstarter_2018.name.isnull()]"
      ]
    },
    {
      "cell_type": "markdown",
      "metadata": {
        "id": "_rEsmc3-lR3f"
      },
      "source": [
        "Ejemplo, cuantos de los proyectos suspendidos no tienen nombre"
      ]
    },
    {
      "cell_type": "code",
      "execution_count": null,
      "metadata": {
        "id": "oCUv6WfylR3f"
      },
      "outputs": [],
      "source": [
        "len(kickstarter_2018[kickstarter_2018.state == 'suspended'].dropna(subset=['name'])) / \\\n",
        "    len(kickstarter_2018[kickstarter_2018.state == 'suspended'])"
      ]
    },
    {
      "cell_type": "markdown",
      "metadata": {
        "id": "URNRinO8lR3f"
      },
      "source": [
        "En este caso, creemos que es seguro descartar los proyectos sin nombre"
      ]
    },
    {
      "cell_type": "code",
      "execution_count": null,
      "metadata": {
        "id": "7ig47EETIXUP"
      },
      "outputs": [],
      "source": [
        "kickstarter_2018 = kickstarter_2018.dropna(subset=['name'])"
      ]
    },
    {
      "cell_type": "code",
      "execution_count": null,
      "metadata": {
        "id": "_mguXGJ7IXUQ"
      },
      "outputs": [],
      "source": [
        "missing_values_count = kickstarter_2018.isnull().sum()\n",
        "missing_values_count[missing_values_count > 0]"
      ]
    },
    {
      "cell_type": "code",
      "execution_count": null,
      "metadata": {
        "id": "Xi85q0ytIXUR",
        "scrolled": true
      },
      "outputs": [],
      "source": [
        "kickstarter_2018[kickstarter_2018.usd_pledged.isnull()]"
      ]
    },
    {
      "cell_type": "code",
      "execution_count": null,
      "metadata": {
        "id": "hIHOdVWuIXUU"
      },
      "outputs": [],
      "source": [
        "kickstarter_2018[kickstarter_2018.usd_pledged.isnull()].describe(include='all')"
      ]
    },
    {
      "cell_type": "markdown",
      "metadata": {
        "id": "RSQpwSV5lR3g"
      },
      "source": [
        "Interesante, todos los datos pertenecen a un país indeterminado.\n",
        "\n",
        "Todos los datos de ese \"país\" no tienen dinero prometido?"
      ]
    },
    {
      "cell_type": "code",
      "execution_count": null,
      "metadata": {
        "id": "V1fJwrLFIXUW"
      },
      "outputs": [],
      "source": [
        "kickstarter_2018[(kickstarter_2018.country == 'N,0\"') & ~(kickstarter_2018.usd_pledged.isnull())].head()"
      ]
    },
    {
      "cell_type": "markdown",
      "metadata": {
        "id": "J4kOS1GrlR3g"
      },
      "source": [
        "A priori como los proyectos no tienen patrocinantes, completamos en 0 los valores"
      ]
    },
    {
      "cell_type": "code",
      "execution_count": null,
      "metadata": {
        "id": "GRx81S7wIXUX"
      },
      "outputs": [],
      "source": [
        "kickstarter_2018 = kickstarter_2018.fillna(0)\n",
        "missing_values_count = kickstarter_2018.isnull().sum()\n",
        "missing_values_count[missing_values_count > 0]"
      ]
    },
    {
      "cell_type": "code",
      "execution_count": null,
      "metadata": {
        "id": "LfBdudBHlR3h"
      },
      "outputs": [],
      "source": [
        "kickstarter_2018.shape"
      ]
    },
    {
      "cell_type": "markdown",
      "metadata": {
        "id": "kMX1NiqXIXUY"
      },
      "source": [
        "Más métodos disponibles en https://pandas.pydata.org/pandas-docs/stable/api.html#api-dataframe-missing y http://scikit-learn.org/stable/modules/classes.html#module-sklearn.preprocessing"
      ]
    },
    {
      "cell_type": "markdown",
      "metadata": {
        "id": "wg5g7VivIXUY"
      },
      "source": [
        "## 2.3. Codificar variables\n",
        "\n",
        "Para trabajar con los algoritmos de aprendizaje automático, las variables categóricas estas deben ser codificadas como variables numéricas, no como cadenas.\n",
        "\n",
        "Para esta tarea también hay diferentes estrategias, dos comunes son: asociar cadena a número y asociar cadena a columna."
      ]
    },
    {
      "cell_type": "code",
      "execution_count": null,
      "metadata": {
        "id": "vSA_t4gkIXUY"
      },
      "outputs": [],
      "source": [
        "from sklearn import preprocessing"
      ]
    },
    {
      "cell_type": "code",
      "execution_count": null,
      "metadata": {
        "id": "64TDAVR9IXUZ"
      },
      "outputs": [],
      "source": [
        "kickstarter_2018.describe(include=['O'])"
      ]
    },
    {
      "cell_type": "code",
      "execution_count": null,
      "metadata": {
        "id": "Furd8rzbIXUa"
      },
      "outputs": [],
      "source": [
        "column='main_category'\n",
        "# Create a label (category) encoder object\n",
        "le = preprocessing.LabelEncoder()\n",
        "# Fit the encoder to the pandas column\n",
        "le.fit(kickstarter_2018[column])"
      ]
    },
    {
      "cell_type": "code",
      "execution_count": null,
      "metadata": {
        "id": "cit8woaJIXUb"
      },
      "outputs": [],
      "source": [
        "# View encoder mapping\n",
        "dict(zip(le.classes_,le.transform(le.classes_)))"
      ]
    },
    {
      "cell_type": "code",
      "execution_count": null,
      "metadata": {
        "id": "ugnDG6WNIXUc"
      },
      "outputs": [],
      "source": [
        "# Apply the fitted encoder to the pandas column\n",
        "kickstarter_2018[column] = le.transform(kickstarter_2018[column]) \n",
        "kickstarter_2018.head()"
      ]
    },
    {
      "cell_type": "code",
      "execution_count": null,
      "metadata": {
        "id": "04eBH7hoIXUd"
      },
      "outputs": [],
      "source": [
        "# Reversing encoding\n",
        "kickstarter_2018[column] = le.inverse_transform(kickstarter_2018[column]) \n",
        "kickstarter_2018.head()"
      ]
    },
    {
      "cell_type": "code",
      "execution_count": null,
      "metadata": {
        "id": "CwNKqbgbIXUd"
      },
      "outputs": [],
      "source": [
        "from sklearn.preprocessing import LabelBinarizer\n",
        "other_column = 'state'\n",
        "\n",
        "lb = LabelBinarizer()\n",
        "\n",
        "lb_results = lb.fit_transform(kickstarter_2018[other_column])\n",
        "pd.DataFrame(lb_results, columns=((other_column + '_') + pd.Series(lb.classes_))).head(10)"
      ]
    },
    {
      "cell_type": "markdown",
      "metadata": {
        "id": "8N1YbkwSIXUe"
      },
      "source": [
        "More about preprocessing in http://scikit-learn.org/stable/modules/classes.html#module-sklearn.preprocessing"
      ]
    },
    {
      "cell_type": "markdown",
      "metadata": {
        "id": "kz7zeJ2jlR3j"
      },
      "source": [
        "#### Ejercicio 4\n",
        "\n",
        "Codificar `currency` con ambas estrategias"
      ]
    },
    {
      "cell_type": "markdown",
      "metadata": {
        "id": "c2qVOSsQIXUf"
      },
      "source": [
        "## 2.4. No cambiar los nombres de las variables de la fuente de origen\n"
      ]
    },
    {
      "cell_type": "markdown",
      "metadata": {
        "id": "k9XvL-yMIXUf"
      },
      "source": [
        "## 2.5. Verificar la consistencia de las variables\n",
        "Aplicar reglas de integridad\n"
      ]
    },
    {
      "cell_type": "code",
      "execution_count": null,
      "metadata": {
        "id": "y5W24vJwIXUf"
      },
      "outputs": [],
      "source": [
        "kickstarter_2018.head()"
      ]
    },
    {
      "cell_type": "markdown",
      "metadata": {
        "id": "4EAwb-5BIXUh"
      },
      "source": [
        "¿Hay proyectos sin patrocinadores pero con plata prometida?"
      ]
    },
    {
      "cell_type": "code",
      "execution_count": null,
      "metadata": {
        "id": "x0YWqWntIXUh"
      },
      "outputs": [],
      "source": [
        "kickstarter_2018[(kickstarter_2018.backers == 0) & (kickstarter_2018.usd_pledged > 0)]"
      ]
    },
    {
      "cell_type": "markdown",
      "metadata": {
        "id": "8oFs6r9CIXUj"
      },
      "source": [
        "¿Hay proyecto no exitosos que pasaron el objetivo?"
      ]
    },
    {
      "cell_type": "code",
      "execution_count": null,
      "metadata": {
        "id": "_5lPvwqYIXUj"
      },
      "outputs": [],
      "source": [
        "kickstarter_2018[(kickstarter_2018.state != 'successful') & (kickstarter_2018.pledged > kickstarter_2018.goal)]"
      ]
    },
    {
      "cell_type": "markdown",
      "metadata": {
        "id": "JcmsJSYXIXUl"
      },
      "source": [
        "¿Cómo es, en promedio, la correlación entre el objetivo y la plata obtenida?"
      ]
    },
    {
      "cell_type": "code",
      "execution_count": null,
      "metadata": {
        "id": "vAI0_9m-IXUl"
      },
      "outputs": [],
      "source": [
        "df = kickstarter_2018.groupby('state')[['goal','pledged']].aggregate('mean')\n",
        "df['pledged'] / df['goal']"
      ]
    },
    {
      "cell_type": "markdown",
      "metadata": {
        "id": "0alq6UDrIXUn"
      },
      "source": [
        "¿Cuánta plata se obtiene en promedio por estado y categoría?"
      ]
    },
    {
      "cell_type": "code",
      "execution_count": null,
      "metadata": {
        "id": "ZDDTnENBIXUn"
      },
      "outputs": [],
      "source": [
        "kickstarter_2018.pivot_table(values='usd_pledged',index='state',columns='main_category')"
      ]
    },
    {
      "cell_type": "markdown",
      "metadata": {
        "id": "SgmuHz2VlR3k"
      },
      "source": [
        "#### Ejercicio 5\n",
        "\n",
        "1. ¿Hay proyecto éxitosos que no consiguieron el objetivo? Si hay, ¿Qué porcentaje sí y cuál no?\n",
        "2. Calcular una tabla con la cantidad de proyectos por categoría principal y estado."
      ]
    },
    {
      "cell_type": "markdown",
      "metadata": {
        "id": "3ci4iq7MIXUq"
      },
      "source": [
        "## 2.6. Identificar y documentar valores atípicos/outliers\n"
      ]
    },
    {
      "cell_type": "markdown",
      "metadata": {
        "id": "CFiuuPAlIXUq"
      },
      "source": [
        "Queremos analizar las características de los proyectos que obtienen dinero pero sin considerar los casos atípicos."
      ]
    },
    {
      "cell_type": "code",
      "execution_count": null,
      "metadata": {
        "id": "krohU7VxIXUq"
      },
      "outputs": [],
      "source": [
        "%matplotlib inline\n",
        "kickstarter_2018.usd_pledged.hist();"
      ]
    },
    {
      "cell_type": "code",
      "execution_count": null,
      "metadata": {
        "id": "4KNUgM_xIXUr"
      },
      "outputs": [],
      "source": [
        "kickstarter_2018.boxplot(column='usd_pledged');"
      ]
    },
    {
      "cell_type": "markdown",
      "metadata": {
        "id": "2JzBu_TmIXUw"
      },
      "source": [
        "\"There are many rules of thumb for how to define an outlier but there is no silver bullet. One rule of thumb is that any data point that is three standard deviations away from the mean of the same data point for all observations.\""
      ]
    },
    {
      "cell_type": "code",
      "execution_count": null,
      "metadata": {
        "id": "crqXG6cQIXUx"
      },
      "outputs": [],
      "source": [
        "outliers = kickstarter_2018[kickstarter_2018.usd_pledged > (kickstarter_2018.usd_pledged.mean() + \n",
        "                                                            3 * kickstarter_2018.usd_pledged.std())]\n",
        "outliers"
      ]
    },
    {
      "cell_type": "code",
      "execution_count": null,
      "metadata": {
        "id": "NIhPx3nDlR3l"
      },
      "outputs": [],
      "source": [
        "kickstarter_2018.drop(outliers.index).boxplot(column='usd_pledged');"
      ]
    },
    {
      "cell_type": "code",
      "execution_count": null,
      "metadata": {
        "id": "GUIlg7xXIXUz"
      },
      "outputs": [],
      "source": [
        "kickstarter_2018.drop(outliers.index).boxplot(column='usd_pledged',by='state');"
      ]
    },
    {
      "cell_type": "markdown",
      "metadata": {
        "id": "kXVSw_F5lR3m"
      },
      "source": [
        "Analizar outliers por categorías"
      ]
    },
    {
      "cell_type": "code",
      "execution_count": null,
      "metadata": {
        "id": "Q3sawM-JIXUx"
      },
      "outputs": [],
      "source": [
        "kickstarter_2018.boxplot(column='usd_pledged',by='state');\n",
        "kickstarter_2018.boxplot(column='usd_goal_real',by='state');"
      ]
    },
    {
      "cell_type": "markdown",
      "metadata": {
        "id": "Kp7KAiWwlR3m"
      },
      "source": [
        "#### Ejercicio 6\n",
        "\n",
        "Calcular los valores atípicos de 'usd_goal_real' y graficar los boxplots, con y sin estos valores por categoría"
      ]
    },
    {
      "cell_type": "markdown",
      "metadata": {
        "id": "oGI_4tR0IXUz"
      },
      "source": [
        "## 2.7. Evaluar cómo comprimir los datos \n",
        "para su almacenamiento más eficiente.\n",
        "\n",
        "En la actualidad, en las nubes el almacenamiento no suele ser problema sino la velocidad para leerlo que suele ser determinante a la hora de determinar el formato de almacenamiento.\n"
      ]
    },
    {
      "cell_type": "markdown",
      "metadata": {
        "id": "9y8QxZwdIXU0"
      },
      "source": [
        "## 2.8. Guardar el set de datos con un nombre informativo.\n"
      ]
    },
    {
      "cell_type": "markdown",
      "metadata": {
        "id": "3aaOkntbIXU0"
      },
      "source": [
        "EL problema de la ingeniería de software"
      ]
    }
  ],
  "metadata": {
    "colab": {
      "name": "Limpieza.ipynb",
      "provenance": [],
      "collapsed_sections": [
        "0Z9ck1e6FMXn",
        "uD9wmnXUYStG",
        "kUuWg5XxYSuU",
        "NeVjrYP2YSu2",
        "r-IcwfaElR3Z",
        "XGk94uFaYSvI",
        "XzR8-UpTIS8S",
        "OUA2hGvQIXTX",
        "9RSYRXyBlR3e",
        "ahRhnkZ7IXUI",
        "wg5g7VivIXUY",
        "kz7zeJ2jlR3j",
        "c2qVOSsQIXUf",
        "k9XvL-yMIXUf",
        "SgmuHz2VlR3k",
        "3ci4iq7MIXUq",
        "Kp7KAiWwlR3m",
        "oGI_4tR0IXUz",
        "9y8QxZwdIXU0"
      ]
    },
    "kernelspec": {
      "display_name": "Python 3",
      "language": "python",
      "name": "python3"
    },
    "language_info": {
      "codemirror_mode": {
        "name": "ipython",
        "version": 3
      },
      "file_extension": ".py",
      "mimetype": "text/x-python",
      "name": "python",
      "nbconvert_exporter": "python",
      "pygments_lexer": "ipython3",
      "version": "3.7.6"
    }
  },
  "nbformat": 4,
  "nbformat_minor": 0
}